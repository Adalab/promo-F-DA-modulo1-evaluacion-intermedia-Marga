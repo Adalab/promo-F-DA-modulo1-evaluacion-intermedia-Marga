{
 "cells": [
  {
   "cell_type": "code",
   "execution_count": 19,
   "metadata": {},
   "outputs": [
    {
     "name": "stdout",
     "output_type": "stream",
     "text": [
      "1\n"
     ]
    }
   ],
   "source": [
    "#1 Dada una cadena de texto, contar cuántas veces aparece una letra específica en ella. Usa un input para que el usuario elija la letra a buscar.\n",
    "\n",
    "cadena = \"Python es un lenguaje de programación muy popular\".lower()\n",
    "letras = input(\"Ecoge que letra quieres buscar:\")\n",
    "print(cadena.count(letras))"
   ]
  },
  {
   "cell_type": "code",
   "execution_count": 23,
   "metadata": {},
   "outputs": [
    {
     "name": "stdout",
     "output_type": "stream",
     "text": [
      "Python es genial. Python es fácil de aprender\n"
     ]
    }
   ],
   "source": [
    "# 2. Escribe un programa que tome la siguiente cadena de texto y reemplace una palabra específica por otra palabra. La palabra a reemplazar y reemplazada deben ser elegidas por el usuario.\n",
    "\n",
    "cadena = \"Python es genial. Python es fácil de aprender\"\n",
    "\n",
    "reemplazar = str(input(\"Escribe la palabra a reemplazar\"))\n",
    "reemplazada = str(input(\"Escribe tu nueva palabra\"))\n",
    "\n",
    "print(cadena.replace(reemplazar, reemplazada))"
   ]
  },
  {
   "cell_type": "code",
   "execution_count": 20,
   "metadata": {},
   "outputs": [
    {
     "name": "stdout",
     "output_type": "stream",
     "text": [
      "['Esto', 'es', 'una', 'oración', 'de', 'ejemplo']\n",
      "6\n",
      "Esto es una oración de ejemplo\n"
     ]
    }
   ],
   "source": [
    "# 3. Toma la siguiente oración y divídela en una lista de palabras. Luego, únelas nuevamente en una sola cadena de texto.\n",
    "\n",
    "oracion = \"Esto es una oración de ejemplo\"\n",
    "\n",
    "lista_frase = oracion.split()\n",
    "print(lista_frase)\n",
    "print(len(lista_frase))\n",
    "\n",
    "oracion2 = \" \".join(lista_frase)\n",
    "print(oracion2)"
   ]
  },
  {
   "cell_type": "code",
   "execution_count": 21,
   "metadata": {},
   "outputs": [
    {
     "name": "stdout",
     "output_type": "stream",
     "text": [
      "7\n"
     ]
    }
   ],
   "source": [
    "#4. Desarrolla un programa que cuente cuántas palabras hay en la siguiente frase.\n",
    "\n",
    "cadena = \"Esta es una cadena con cinco palabras\"\n",
    "\n",
    "dividir_cadena = cadena.split()\n",
    "print(len(dividir_cadena))\n"
   ]
  },
  {
   "cell_type": "code",
   "execution_count": 25,
   "metadata": {},
   "outputs": [
    {
     "name": "stdout",
     "output_type": "stream",
     "text": [
      "Has escrito: margarita es la mejor \n",
      "['margarita', 'es', 'la', 'mejor']\n",
      "['mejor', 'la', 'es', 'margarita']\n",
      "mejor la es margarita\n"
     ]
    }
   ],
   "source": [
    "#5. Escribe un programa que invierta una cadena de texto dada por un usuario. Mira el siguiente ejemplo para entender lo que se pide:\n",
    "\n",
    "cadena_usuario = input(\"Escribe la frase que quieras: \")\n",
    "print(f\"Has escrito: {cadena_usuario}\")\n",
    "\n",
    "conversion_lista = cadena_usuario.split()\n",
    "print(conversion_lista)\n",
    "      \n",
    "conversion_lista.reverse()\n",
    "print(conversion_lista)\n",
    "\n",
    "frase_final = \" \".join(conversion_lista)\n",
    "print(frase_final)"
   ]
  },
  {
   "cell_type": "code",
   "execution_count": 26,
   "metadata": {},
   "outputs": [
    {
     "name": "stdout",
     "output_type": "stream",
     "text": [
      "En un lugar de la Mancha de cuyo nombre no quiero acordarme\n",
      "['En', 'un', 'lugar', 'de', 'la', 'Mancha', 'de', 'cuyo', 'nombre', 'no', 'quiero', 'acordarme']\n",
      "La posición de lugar es 2\n"
     ]
    }
   ],
   "source": [
    "#6. Crea un programa que busque una palabra específica(elegida por la usuaria) en una cadena de texto e indique su posición.\n",
    "\n",
    "frase = (\"En un lugar de la Mancha de cuyo nombre no quiero acordarme\").lower()\n",
    "print(frase)\n",
    "palabra = input(\"que palabra quieres buscar?: \")\n",
    "conversion_lista = frase.split()\n",
    "print(conversion_lista)\n",
    "\n",
    "buscando = conversion_lista.index(palabra)\n",
    "\n",
    "print(f\"La posición de {palabra} es {buscando}\")\n",
    " \n",
    "\n"
   ]
  },
  {
   "cell_type": "markdown",
   "metadata": {},
   "source": [
    "LISTAS"
   ]
  },
  {
   "cell_type": "code",
   "execution_count": 32,
   "metadata": {},
   "outputs": [
    {
     "name": "stdout",
     "output_type": "stream",
     "text": [
      "['manzana', 'durazno', 'banana', 'uva', 'kiwi']\n",
      "['manzana', 'durazno', 'banana', 'uva', 'kiwi', 'naranja']\n",
      "el tercer elemento es, banana\n"
     ]
    }
   ],
   "source": [
    "#1. Dada la siguiente lista: frutas = ['manzana', 'pera', 'banana', 'uva', 'kiwi'], realiza lo siguiente:\n",
    "\n",
    "#a) Reemplaza el segundo elemento con 'durazno'.\n",
    "#b) Agrega 'naranja' al final de la lista.\n",
    "#c) Extrae y muestra por pantalla el tercer elemento de la lista.\n",
    "\n",
    "frutas = ['manzana', 'pera', 'banana', 'uva', 'kiwi']\n",
    "\n",
    "#reemplazar el segundo elemento de la lista \n",
    "frutas[1] = \"durazno\"\n",
    "print(frutas)\n",
    "\n",
    "#Agregar naranja al final \n",
    "frutas.append(\"naranja\")\n",
    "print(frutas)\n",
    "\n",
    "#extrae muestra: \n",
    "print(f\"el tercer elemento es, {frutas[2]}\")\n"
   ]
  },
  {
   "cell_type": "code",
   "execution_count": 36,
   "metadata": {},
   "outputs": [],
   "source": [
    "#2. Crea una lista de num que contenga: \n",
    "\n",
    "valores = [10, 25, 15, 30, 20]"
   ]
  },
  {
   "cell_type": "code",
   "execution_count": 38,
   "metadata": {},
   "outputs": [
    {
     "name": "stdout",
     "output_type": "stream",
     "text": [
      "[35, 10, 25, 15, 30, 20]\n"
     ]
    }
   ],
   "source": [
    "#3. \n",
    "valores.insert(0, 35)\n",
    "print(valores)"
   ]
  },
  {
   "cell_type": "code",
   "execution_count": 39,
   "metadata": {},
   "outputs": [
    {
     "name": "stdout",
     "output_type": "stream",
     "text": [
      "[10, 15, 20, 25, 30, 35]\n"
     ]
    }
   ],
   "source": [
    "#4. Ordenar valor ascendente\n",
    "\n",
    "valores.sort()\n",
    "print(valores)"
   ]
  },
  {
   "cell_type": "code",
   "execution_count": 65,
   "metadata": {},
   "outputs": [
    {
     "name": "stdout",
     "output_type": "stream",
     "text": [
      "[10, 15, 20, 25, 30, 35, 45, 22, 19, 38, 29]\n"
     ]
    }
   ],
   "source": [
    "#5. Dada la siguiente lista numeros2 = [45, 22, 19, 38, 29]. \n",
    "#Crea una nueva lista llamada numeros3 donde tengamos la unión de los todos los elementos de las dos listas (numeros y numeros2) de tal forma que el resultado final sea:\n",
    "\n",
    "numeros2 = [45, 22, 19, 38, 29]\n",
    "\n",
    "numeros3 = valores + numeros2\n",
    "print(numeros3)"
   ]
  },
  {
   "cell_type": "code",
   "execution_count": 66,
   "metadata": {},
   "outputs": [
    {
     "name": "stdout",
     "output_type": "stream",
     "text": [
      "[10, 15, 20, 25, 30, 35, 45, 22, 19, 38]\n"
     ]
    }
   ],
   "source": [
    "#6. Eliminar ultimo valor de numros3\n",
    "\n",
    "numeros3.pop()\n",
    "print(numeros3)"
   ]
  },
  {
   "cell_type": "code",
   "execution_count": 67,
   "metadata": {},
   "outputs": [
    {
     "name": "stdout",
     "output_type": "stream",
     "text": [
      "[10, 15, 20, 25, 35, 45, 22, 19, 38]\n"
     ]
    }
   ],
   "source": [
    "#7. Elimina el número 30 de la lista numeros3\n",
    "\n",
    "\n",
    "numeros3.remove(30)\n",
    "print(numeros3)"
   ]
  },
  {
   "cell_type": "code",
   "execution_count": null,
   "metadata": {},
   "outputs": [],
   "source": [
    "TUPLAS"
   ]
  },
  {
   "cell_type": "code",
   "execution_count": 68,
   "metadata": {},
   "outputs": [],
   "source": [
    "#1. Crea una tupla llamada colores que contenga los siguientes valores: 'rojo', 'verde', 'azul', 'amarillo', 'morado'.\n",
    "\n",
    "colores = ( \"rojo\", \"verde\", \"azul\", \"amarillo\", \"morado\")\n",
    "\n"
   ]
  },
  {
   "cell_type": "code",
   "execution_count": 70,
   "metadata": {},
   "outputs": [
    {
     "data": {
      "text/plain": [
       "1"
      ]
     },
     "execution_count": 70,
     "metadata": {},
     "output_type": "execute_result"
    }
   ],
   "source": [
    "#2. Encuentra el índice de 'verde' en la tupla colores\n",
    "\n",
    "colores.index(\"verde\")\n"
   ]
  },
  {
   "cell_type": "code",
   "execution_count": 71,
   "metadata": {},
   "outputs": [
    {
     "data": {
      "text/plain": [
       "1"
      ]
     },
     "execution_count": 71,
     "metadata": {},
     "output_type": "execute_result"
    }
   ],
   "source": [
    "#3. ¿Cuántas veces aparece 'azul' en la tupla colores?\n",
    "\n",
    "colores.count(\"azul\")\n"
   ]
  },
  {
   "cell_type": "code",
   "execution_count": 75,
   "metadata": {},
   "outputs": [
    {
     "name": "stdout",
     "output_type": "stream",
     "text": [
      "['rojo', 'verde', 'azul', 'amarillo', 'morado']\n"
     ]
    }
   ],
   "source": [
    "#4. Añade el color \"morado\" a la tupla colores. ¿Qué ha pasado? ¿Por qué? Como podríamos añadir el elemento \"morado\".\n",
    "\n",
    "#no se puede modificar una tupla. para ello tenemos que hacer una CC y convertirla en lista. \n",
    "\n",
    "\n",
    "colores_lista = list(colores)\n",
    "print(colores_lista)\n",
    "\n"
   ]
  },
  {
   "cell_type": "markdown",
   "metadata": {},
   "source": [
    "DICCIONARIOS "
   ]
  },
  {
   "cell_type": "code",
   "execution_count": 81,
   "metadata": {},
   "outputs": [
    {
     "name": "stdout",
     "output_type": "stream",
     "text": [
      "{'manzana': 2, 'banana': 3, 'uva': 4, 'pera': 5}\n"
     ]
    }
   ],
   "source": [
    "#1 Dicc frutas \n",
    "\n",
    "frutas = { \"manzana\": 2 , \"banana\": 3, \"uva\" : 4, \"pera\": 5 }\n",
    "\n",
    "print(frutas)\n"
   ]
  },
  {
   "cell_type": "code",
   "execution_count": 82,
   "metadata": {},
   "outputs": [
    {
     "name": "stdout",
     "output_type": "stream",
     "text": [
      "dict_keys(['manzana', 'banana', 'uva', 'pera'])\n"
     ]
    }
   ],
   "source": [
    "#2 Saca una lsita de todas las frutas \n",
    "\n",
    "print(frutas.keys())"
   ]
  },
  {
   "cell_type": "code",
   "execution_count": 83,
   "metadata": {},
   "outputs": [
    {
     "name": "stdout",
     "output_type": "stream",
     "text": [
      "dict_values([2, 3, 4, 5])\n"
     ]
    }
   ],
   "source": [
    "#3. Saca una lista de todas las cantidades en el diccionario.\n",
    "print(frutas.values())"
   ]
  },
  {
   "cell_type": "code",
   "execution_count": 92,
   "metadata": {},
   "outputs": [
    {
     "name": "stdout",
     "output_type": "stream",
     "text": [
      "2\n"
     ]
    }
   ],
   "source": [
    "#4. ¿Qué cantidad de 'manzana' tenemos?. Si la clave 'manzana' no está presente, devuelve un mensaje diciendo \"No existe esa clave\".\n",
    "\n",
    "buscador = \"manzana\"\n",
    "\n",
    "if buscador in frutas:\n",
    "    print(frutas.get(buscador))\n",
    "else:\n",
    "    print(\"no existe esta clave\")"
   ]
  },
  {
   "cell_type": "code",
   "execution_count": 103,
   "metadata": {},
   "outputs": [
    {
     "name": "stdout",
     "output_type": "stream",
     "text": [
      "{'manzana': 2, 'banana': 3, 'uva': 4, 'pera': 5, 'kiwi': 6}\n",
      "{'manzana': 2, 'banana': 3, 'uva': 4, 'pera': 5, 'kiwi': 6}\n"
     ]
    }
   ],
   "source": [
    "#5. Agrega un nuevo par de clave-valor al diccionario frutas: 'kiwi' con una cantidad de 6.\n",
    "\n",
    "print(frutas)\n",
    "\n",
    "\n",
    "frutas.update({\"kiwi\": 6})\n",
    "print(frutas)\n"
   ]
  },
  {
   "cell_type": "code",
   "execution_count": 105,
   "metadata": {},
   "outputs": [
    {
     "name": "stdout",
     "output_type": "stream",
     "text": [
      "{'manzana': 2, 'banana': 3, 'uva': 4, 'pera': 5, 'kiwi': 6}\n",
      "{'manzana': 2, 'banana': 3, 'uva': 8, 'pera': 5, 'kiwi': 6}\n"
     ]
    }
   ],
   "source": [
    "#6. Cambia la cantidad de uva a 8 \n",
    "\n",
    "print(frutas)\n",
    "\n",
    "frutas[\"uva\"] = 8\n",
    "\n",
    "print(frutas)"
   ]
  },
  {
   "cell_type": "code",
   "execution_count": 106,
   "metadata": {},
   "outputs": [],
   "source": [
    "#7. Crea un segundo diccionario llamado frutas_nuevas con las siguientes parejas clave-valor:\n",
    "\n",
    "frutas_nuevas = {'sandía': 7 , 'mango': 4 }\n",
    "\n"
   ]
  },
  {
   "cell_type": "code",
   "execution_count": 110,
   "metadata": {},
   "outputs": [
    {
     "name": "stdout",
     "output_type": "stream",
     "text": [
      "{'manzana': 2, 'banana': 3, 'uva': 8, 'pera': 5, 'kiwi': 6, 'sandía': 7, 'mango': 4}\n",
      "{'sandía': 7, 'mango': 4}\n",
      "{'manzana': 2, 'banana': 3, 'uva': 8, 'pera': 5, 'kiwi': 6, 'sandía': 7, 'mango': 4}\n"
     ]
    }
   ],
   "source": [
    "#8 Combina ambos diccionaiors en uno solo. \n",
    "\n",
    "print(frutas)\n",
    "print(frutas_nuevas)\n",
    "\n",
    "frutas_total = frutas | frutas_nuevas\n",
    "print(frutas_total)"
   ]
  },
  {
   "cell_type": "code",
   "execution_count": 113,
   "metadata": {},
   "outputs": [
    {
     "name": "stdout",
     "output_type": "stream",
     "text": [
      "{'manzana': 2, 'banana': 3, 'pera': 5, 'kiwi': 6, 'sandía': 7, 'mango': 4}\n"
     ]
    }
   ],
   "source": [
    "#10 elimina el par clave valor \n",
    "\n",
    "frutas_total.pop(\"uva\")\n",
    "print(frutas_total)"
   ]
  },
  {
   "cell_type": "code",
   "execution_count": 118,
   "metadata": {},
   "outputs": [
    {
     "name": "stdout",
     "output_type": "stream",
     "text": [
      "{'manzana': 10, 'banana': 3, 'pera': 5, 'kiwi': 6, 'sandía': 7, 'mango': 4}\n"
     ]
    }
   ],
   "source": [
    "#11. Agregar la fruta 'manzana' con una cantidad de 10 al diccionario. Si ya existe, no se realizarán cambios en los valores que teníamos.\n",
    "\n",
    "frutas_total.update({\"manzana\": 10})\n",
    "\n",
    "print(frutas_total)\n"
   ]
  },
  {
   "cell_type": "code",
   "execution_count": 125,
   "metadata": {},
   "outputs": [
    {
     "name": "stdout",
     "output_type": "stream",
     "text": [
      "dict_values([10, 3, 5, 6, 7, 4])\n",
      "10\n"
     ]
    }
   ],
   "source": [
    "#12 Combinar métodos de listas y diccionarios:\n",
    "#Obtén una lista de todas las cantidades en el diccionario y calcula suma total de las cantidades del diccionario frutas_total.\n",
    "#Utilizando la lista creada en el apartado anterior encuentra la cantidad más grande y más pequeña.\n",
    "\n",
    "frutas_lista_valores = frutas_total.values()\n",
    "print(frutas_lista_valores)\n",
    "\n",
    "print(max(frutas_lista_valores))"
   ]
  },
  {
   "cell_type": "markdown",
   "metadata": {},
   "source": [
    "Parte 5: Métodos de Sets"
   ]
  },
  {
   "cell_type": "code",
   "execution_count": 2,
   "metadata": {},
   "outputs": [],
   "source": [
    "#1. crea un set \n",
    "\n",
    "conjunto1 = { 1, 2, 3, 4, 5}"
   ]
  },
  {
   "cell_type": "code",
   "execution_count": 3,
   "metadata": {},
   "outputs": [],
   "source": [
    "conjunto2 = { 4, 5, 6, 7, 8}"
   ]
  },
  {
   "cell_type": "code",
   "execution_count": 4,
   "metadata": {},
   "outputs": [
    {
     "name": "stdout",
     "output_type": "stream",
     "text": [
      "{1, 2, 3, 4, 5, 6, 7, 8}\n"
     ]
    }
   ],
   "source": [
    "union_conjuntos = conjunto1.union(conjunto2)\n",
    "print(union_conjuntos)"
   ]
  },
  {
   "cell_type": "code",
   "execution_count": 6,
   "metadata": {},
   "outputs": [
    {
     "name": "stdout",
     "output_type": "stream",
     "text": [
      "{4, 5}\n"
     ]
    }
   ],
   "source": [
    "interseccion_conjuntos = conjunto1.intersection(conjunto2)\n",
    "print(interseccion_conjuntos)"
   ]
  },
  {
   "cell_type": "code",
   "execution_count": 7,
   "metadata": {},
   "outputs": [
    {
     "data": {
      "text/plain": [
       "{1, 2, 3}"
      ]
     },
     "execution_count": 7,
     "metadata": {},
     "output_type": "execute_result"
    }
   ],
   "source": [
    "diferencias = conjunto1.difference(conjunto2)\n",
    "diferencias"
   ]
  },
  {
   "cell_type": "markdown",
   "metadata": {},
   "source": [
    "PARTE 6: SENTENCIAS DE CONTROL"
   ]
  },
  {
   "cell_type": "code",
   "execution_count": 8,
   "metadata": {},
   "outputs": [
    {
     "name": "stdout",
     "output_type": "stream",
     "text": [
      "eres adulto\n"
     ]
    }
   ],
   "source": [
    "#Ejercicio 1: Evaluación de Edades:\n",
    "#Escribe un programa que solicite al usuario ingresar su edad.\n",
    "#Si la edad es menor de 18, muestra \"Eres menor de edad\".\n",
    "#Si la edad está entre 18 y 65 (incluyendo ambos extremos), muestra \"Eres adulto\".\n",
    "#Si la edad es mayor o igual a 65, muestra \"Eres un adulto mayor\".\n",
    "\n",
    "edad_user = int(input(\"que edad tienes?: \"))\n",
    "\n",
    "if edad_user < 18: \n",
    "    print(\"eres menor de edad\")\n",
    "if edad_user >= 18 and edad_user <= 65: \n",
    "    print(\"eres adulto\")\n",
    "\n",
    "else: \n",
    "    print(\"Eres un adulto mayor\")"
   ]
  },
  {
   "cell_type": "code",
   "execution_count": 15,
   "metadata": {},
   "outputs": [
    {
     "name": "stdout",
     "output_type": "stream",
     "text": [
      "introduce un numero del 1 al 7\n"
     ]
    }
   ],
   "source": [
    "#Ejercicio 2: Determinación de Día de la Semana\n",
    "#Solicita al usuario que ingrese un número del 1 al 7.\n",
    "#Utilizando una serie de if-elif-else, muestra el día de la semana correspondiente al número ingresado. Por ejemplo, si ingresa 1, muestra \"Lunes\".\n",
    "\n",
    "dias = [\"lunes\", \"martes\", \"miércoles\", \"jueves\", \"viernes\", \"sábado\", \"domingo\"]\n",
    "\n",
    "usuario = int(input(\"Escoge un numero del 1 al 7\"))\n",
    "\n",
    "if usuario == 1: \n",
    "    print(dias[0])\n",
    "elif usuario == 2:\n",
    "    print(dias[1])\n",
    "elif usuario == 3:\n",
    "     print(dias[2])\n",
    "elif usuario == 4:\n",
    "    print(dias[3])\n",
    "elif usuario == 5: \n",
    "    print(dias[4])\n",
    "elif usuario == 6:\n",
    "    print(dias[5])\n",
    "elif usuario == 7:\n",
    "    print(dias[6])\n",
    "\n",
    "else:\n",
    "    print(\"introduce un numero del 1 al 7\")\n"
   ]
  },
  {
   "cell_type": "code",
   "execution_count": 14,
   "metadata": {},
   "outputs": [
    {
     "name": "stdout",
     "output_type": "stream",
     "text": [
      "51\n"
     ]
    },
    {
     "ename": "ValueError",
     "evalue": "invalid literal for int() with base 10: ''",
     "output_type": "error",
     "traceback": [
      "\u001b[0;31m---------------------------------------------------------------------------\u001b[0m",
      "\u001b[0;31mValueError\u001b[0m                                Traceback (most recent call last)",
      "\u001b[1;32m/Users/margaritaobrador/Adalab/Module-1/Evaluaciones/Repo/promo-F-DA-modulo1-evaluacion-intermedia-Marga/promo-F-DA-modulo1-evaluacion-intermedia-Marga.ipynb Cell 41\u001b[0m line \u001b[0;36m8\n\u001b[1;32m      <a href='vscode-notebook-cell:/Users/margaritaobrador/Adalab/Module-1/Evaluaciones/Repo/promo-F-DA-modulo1-evaluacion-intermedia-Marga/promo-F-DA-modulo1-evaluacion-intermedia-Marga.ipynb#X55sZmlsZQ%3D%3D?line=5'>6</a>\u001b[0m intentos \u001b[39m=\u001b[39m \u001b[39m1\u001b[39m\n\u001b[1;32m      <a href='vscode-notebook-cell:/Users/margaritaobrador/Adalab/Module-1/Evaluaciones/Repo/promo-F-DA-modulo1-evaluacion-intermedia-Marga/promo-F-DA-modulo1-evaluacion-intermedia-Marga.ipynb#X55sZmlsZQ%3D%3D?line=6'>7</a>\u001b[0m \u001b[39mprint\u001b[39m(numero_azar)\n\u001b[0;32m----> <a href='vscode-notebook-cell:/Users/margaritaobrador/Adalab/Module-1/Evaluaciones/Repo/promo-F-DA-modulo1-evaluacion-intermedia-Marga/promo-F-DA-modulo1-evaluacion-intermedia-Marga.ipynb#X55sZmlsZQ%3D%3D?line=7'>8</a>\u001b[0m numero_escogido \u001b[39m=\u001b[39m \u001b[39mint\u001b[39m(\u001b[39minput\u001b[39m(\u001b[39m\"\u001b[39m\u001b[39mintroduce un numero al azar del 0 al 100: \u001b[39m\u001b[39m\"\u001b[39m))\n\u001b[1;32m     <a href='vscode-notebook-cell:/Users/margaritaobrador/Adalab/Module-1/Evaluaciones/Repo/promo-F-DA-modulo1-evaluacion-intermedia-Marga/promo-F-DA-modulo1-evaluacion-intermedia-Marga.ipynb#X55sZmlsZQ%3D%3D?line=9'>10</a>\u001b[0m \u001b[39mwhile\u001b[39;00m numero_azar \u001b[39m!=\u001b[39m numero_escogido:\n\u001b[1;32m     <a href='vscode-notebook-cell:/Users/margaritaobrador/Adalab/Module-1/Evaluaciones/Repo/promo-F-DA-modulo1-evaluacion-intermedia-Marga/promo-F-DA-modulo1-evaluacion-intermedia-Marga.ipynb#X55sZmlsZQ%3D%3D?line=11'>12</a>\u001b[0m     \u001b[39mif\u001b[39;00m numero_escogido \u001b[39m>\u001b[39m numero_azar:\n",
      "\u001b[0;31mValueError\u001b[0m: invalid literal for int() with base 10: ''"
     ]
    }
   ],
   "source": [
    "#3. Juego de adivinanza\n",
    "\n",
    "import random\n",
    "\n",
    "numero_azar = random.randint(0, 100)\n",
    "intentos = 1\n",
    "print(numero_azar)\n",
    "numero_escogido = int(input(\"introduce un numero al azar del 0 al 100: \"))\n",
    "\n",
    "while numero_azar != numero_escogido:\n",
    "\n",
    "    if numero_escogido > numero_azar:\n",
    "        print(f\"Has escogido {numero_escogido}, prueba con un numero menor\")\n",
    "        print(f\"llevas {intentos} intentos\")\n",
    "        intentos += 1\n",
    "        numero_escogido = int(input(\"introduce un numero al azar del 0 al 100: \"))\n",
    "\n",
    "    elif numero_escogido < numero_azar:\n",
    "        print(f\"Has escogido {numero_escogido}, prueba con un numero mayor\")\n",
    "        print(f\"llevas {intentos} intentos\")\n",
    "        intentos += 1\n",
    "        numero_escogido = int(input(\"introduce un numero al azar del 0 al 100: \"))\n",
    "\n",
    "else:     \n",
    "    print(f\"Has acertado! el numero oculto es {numero_azar}, !felicidades!\")\n"
   ]
  },
  {
   "cell_type": "code",
   "execution_count": 12,
   "metadata": {},
   "outputs": [],
   "source": [
    "#4. Juego de adivinar la palabra secreta \n",
    "\n",
    "import random\n",
    "\n",
    "palab\n"
   ]
  }
 ],
 "metadata": {
  "kernelspec": {
   "display_name": "base",
   "language": "python",
   "name": "python3"
  },
  "language_info": {
   "codemirror_mode": {
    "name": "ipython",
    "version": 3
   },
   "file_extension": ".py",
   "mimetype": "text/x-python",
   "name": "python",
   "nbconvert_exporter": "python",
   "pygments_lexer": "ipython3",
   "version": "3.11.5"
  },
  "orig_nbformat": 4
 },
 "nbformat": 4,
 "nbformat_minor": 2
}
